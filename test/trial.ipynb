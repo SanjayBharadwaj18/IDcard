{
 "cells": [
  {
   "cell_type": "code",
   "execution_count": 4,
   "metadata": {},
   "outputs": [
    {
     "name": "stdout",
     "output_type": "stream",
     "text": [
      "Requirement already satisfied: easyocr in c:\\users\\sanjay bharadwaj u\\appdata\\local\\programs\\python\\python310\\lib\\site-packages (1.6.2)"
     ]
    },
    {
     "name": "stderr",
     "output_type": "stream",
     "text": [
      "\n",
      "[notice] A new release of pip is available: 23.1.2 -> 23.3.1\n",
      "[notice] To update, run: python.exe -m pip install --upgrade pip\n"
     ]
    },
    {
     "name": "stdout",
     "output_type": "stream",
     "text": [
      "\n",
      "Requirement already satisfied: torch in c:\\users\\sanjay bharadwaj u\\appdata\\local\\programs\\python\\python310\\lib\\site-packages (from easyocr) (1.13.1)\n",
      "Requirement already satisfied: torchvision>=0.5 in c:\\users\\sanjay bharadwaj u\\appdata\\local\\programs\\python\\python310\\lib\\site-packages (from easyocr) (0.14.1)\n",
      "Requirement already satisfied: opencv-python-headless<=4.5.4.60 in c:\\users\\sanjay bharadwaj u\\appdata\\local\\programs\\python\\python310\\lib\\site-packages (from easyocr) (4.5.4.60)\n",
      "Requirement already satisfied: scipy in c:\\users\\sanjay bharadwaj u\\appdata\\local\\programs\\python\\python310\\lib\\site-packages (from easyocr) (1.9.3)\n",
      "Requirement already satisfied: numpy in c:\\users\\sanjay bharadwaj u\\appdata\\local\\programs\\python\\python310\\lib\\site-packages (from easyocr) (1.23.5)\n",
      "Requirement already satisfied: Pillow in c:\\users\\sanjay bharadwaj u\\appdata\\local\\programs\\python\\python310\\lib\\site-packages (from easyocr) (9.3.0)\n",
      "Requirement already satisfied: scikit-image in c:\\users\\sanjay bharadwaj u\\appdata\\local\\programs\\python\\python310\\lib\\site-packages (from easyocr) (0.19.3)\n",
      "Requirement already satisfied: python-bidi in c:\\users\\sanjay bharadwaj u\\appdata\\local\\programs\\python\\python310\\lib\\site-packages (from easyocr) (0.4.2)\n",
      "Requirement already satisfied: PyYAML in c:\\users\\sanjay bharadwaj u\\appdata\\local\\programs\\python\\python310\\lib\\site-packages (from easyocr) (6.0)\n",
      "Requirement already satisfied: Shapely in c:\\users\\sanjay bharadwaj u\\appdata\\local\\programs\\python\\python310\\lib\\site-packages (from easyocr) (2.0.0)\n",
      "Requirement already satisfied: pyclipper in c:\\users\\sanjay bharadwaj u\\appdata\\local\\programs\\python\\python310\\lib\\site-packages (from easyocr) (1.3.0.post4)\n",
      "Requirement already satisfied: ninja in c:\\users\\sanjay bharadwaj u\\appdata\\local\\programs\\python\\python310\\lib\\site-packages (from easyocr) (1.11.1)\n",
      "Requirement already satisfied: typing-extensions in c:\\users\\sanjay bharadwaj u\\appdata\\local\\programs\\python\\python310\\lib\\site-packages (from torchvision>=0.5->easyocr) (4.4.0)\n",
      "Requirement already satisfied: requests in c:\\users\\sanjay bharadwaj u\\appdata\\local\\programs\\python\\python310\\lib\\site-packages (from torchvision>=0.5->easyocr) (2.28.1)\n",
      "Requirement already satisfied: six in c:\\users\\sanjay bharadwaj u\\appdata\\local\\programs\\python\\python310\\lib\\site-packages (from python-bidi->easyocr) (1.16.0)\n",
      "Requirement already satisfied: networkx>=2.2 in c:\\users\\sanjay bharadwaj u\\appdata\\local\\programs\\python\\python310\\lib\\site-packages (from scikit-image->easyocr) (2.8.8)\n",
      "Requirement already satisfied: imageio>=2.4.1 in c:\\users\\sanjay bharadwaj u\\appdata\\local\\programs\\python\\python310\\lib\\site-packages (from scikit-image->easyocr) (2.23.0)\n",
      "Requirement already satisfied: tifffile>=2019.7.26 in c:\\users\\sanjay bharadwaj u\\appdata\\local\\programs\\python\\python310\\lib\\site-packages (from scikit-image->easyocr) (2022.10.10)\n",
      "Requirement already satisfied: PyWavelets>=1.1.1 in c:\\users\\sanjay bharadwaj u\\appdata\\local\\programs\\python\\python310\\lib\\site-packages (from scikit-image->easyocr) (1.4.1)\n",
      "Requirement already satisfied: packaging>=20.0 in c:\\users\\sanjay bharadwaj u\\appdata\\local\\programs\\python\\python310\\lib\\site-packages (from scikit-image->easyocr) (22.0)\n",
      "Requirement already satisfied: charset-normalizer<3,>=2 in c:\\users\\sanjay bharadwaj u\\appdata\\local\\programs\\python\\python310\\lib\\site-packages (from requests->torchvision>=0.5->easyocr) (2.1.1)\n",
      "Requirement already satisfied: idna<4,>=2.5 in c:\\users\\sanjay bharadwaj u\\appdata\\local\\programs\\python\\python310\\lib\\site-packages (from requests->torchvision>=0.5->easyocr) (3.4)\n",
      "Requirement already satisfied: urllib3<1.27,>=1.21.1 in c:\\users\\sanjay bharadwaj u\\appdata\\local\\programs\\python\\python310\\lib\\site-packages (from requests->torchvision>=0.5->easyocr) (1.26.13)\n",
      "Requirement already satisfied: certifi>=2017.4.17 in c:\\users\\sanjay bharadwaj u\\appdata\\local\\programs\\python\\python310\\lib\\site-packages (from requests->torchvision>=0.5->easyocr) (2022.12.7)\n"
     ]
    }
   ],
   "source": [
    "!pip  install easyocr"
   ]
  },
  {
   "cell_type": "code",
   "execution_count": 5,
   "metadata": {},
   "outputs": [],
   "source": [
    "import easyocr\n",
    "import cv2\n",
    "import os\n",
    "import pandas as pd"
   ]
  },
  {
   "cell_type": "code",
   "execution_count": 6,
   "metadata": {},
   "outputs": [
    {
     "name": "stderr",
     "output_type": "stream",
     "text": [
      "CUDA not available - defaulting to CPU. Note: This module is much faster with a GPU.\n"
     ]
    }
   ],
   "source": [
    "reader=easyocr.Reader(['en'],gpu=True)"
   ]
  },
  {
   "cell_type": "code",
   "execution_count": 7,
   "metadata": {},
   "outputs": [],
   "source": [
    "result=reader.readtext('test.jpg')"
   ]
  },
  {
   "cell_type": "code",
   "execution_count": 8,
   "metadata": {},
   "outputs": [
    {
     "name": "stdout",
     "output_type": "stream",
     "text": [
      "[([[128, 192], [218, 192], [218, 264], [128, 264]], '8880', 0.44497108459472656), ([[232, 179], [378, 179], [378, 233], [232, 233]], 'REVA', 0.666330444629579), ([[552, 194], [677, 194], [677, 231], [552, 231]], 'STUDENT', 0.9978462980969164), ([[235, 222], [516, 222], [516, 274], [235, 274]], 'UNIVERSITY', 0.9994240398404768), ([[554, 228], [662, 228], [662, 258], [554, 258]], 'ID CARD', 0.8072911769804452), ([[564, 392], [658, 392], [658, 440], [564, 440]], 'SRN', 0.9999672391265605), ([[505, 449], [714, 449], [714, 503], [505, 503]], 'RZIELO39', 0.710006389677698), ([[541, 534], [720, 534], [720, 582], [541, 582]], 'VALIDITY', 0.999843335080722), ([[566, 586], [670, 586], [670, 634], [566, 634]], '2021', 0.9999998807907104), ([[596, 642], [664, 642], [664, 690], [596, 690]], 'TO', 0.6907863934161665), ([[565, 692], [674, 692], [674, 744], [565, 744]], '2025', 0.956797222294922), ([[118, 767], [597, 767], [597, 830], [118, 830]], 'SANJAY BHARADWAJ U', 0.8072757007462813), ([[124, 846], [717, 846], [717, 898], [124, 898]], 'B.Tech in Electrical and Computer Engg:', 0.7889854917853157), ([[572, 968], [686, 968], [686, 1016], [572, 1016]], '1€', 0.32021814906596896), ([[541, 1031], [709, 1031], [709, 1067], [541, 1067]], 'REGISTRAR', 0.9999451232375052), ([[163, 1106], [404, 1106], [404, 1139], [163, 1139]], 'Rukmini Educational', 0.5454678232249313), ([[165, 1133], [348, 1133], [348, 1163], [165, 1163]], 'Coharitableatrust', 0.11578357230098694)]\n"
     ]
    }
   ],
   "source": [
    "print(result)"
   ]
  },
  {
   "cell_type": "code",
   "execution_count": 9,
   "metadata": {},
   "outputs": [],
   "source": [
    "text=''\n",
    "for results in result:\n",
    "    text+=results[1]+' '"
   ]
  },
  {
   "cell_type": "code",
   "execution_count": 10,
   "metadata": {},
   "outputs": [
    {
     "name": "stdout",
     "output_type": "stream",
     "text": [
      "8880 REVA STUDENT UNIVERSITY ID CARD SRN RZIELO39 VALIDITY 2021 TO 2025 SANJAY BHARADWAJ U B.Tech in Electrical and Computer Engg: 1€ REGISTRAR Rukmini Educational Coharitableatrust \n"
     ]
    }
   ],
   "source": [
    "print(text)"
   ]
  },
  {
   "cell_type": "code",
   "execution_count": 11,
   "metadata": {},
   "outputs": [
    {
     "name": "stdout",
     "output_type": "stream",
     "text": [
      "                                                Text\n",
      "0  8880 REVA STUDENT UNIVERSITY ID CARD SRN RZIEL...\n"
     ]
    }
   ],
   "source": [
    "text_df = pd.DataFrame({'Text': [text]})\n",
    "print(text_df)"
   ]
  },
  {
   "cell_type": "code",
   "execution_count": null,
   "metadata": {},
   "outputs": [],
   "source": []
  }
 ],
 "metadata": {
  "kernelspec": {
   "display_name": "Python 3",
   "language": "python",
   "name": "python3"
  },
  "language_info": {
   "codemirror_mode": {
    "name": "ipython",
    "version": 3
   },
   "file_extension": ".py",
   "mimetype": "text/x-python",
   "name": "python",
   "nbconvert_exporter": "python",
   "pygments_lexer": "ipython3",
   "version": "3.10.5"
  },
  "orig_nbformat": 4,
  "vscode": {
   "interpreter": {
    "hash": "a2908ada71653c1f99e93f7a3738edd3eeb5834bce8ad643ffe05ad9e8725257"
   }
  }
 },
 "nbformat": 4,
 "nbformat_minor": 2
}
